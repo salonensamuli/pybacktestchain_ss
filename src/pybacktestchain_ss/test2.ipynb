{
 "cells": [
  {
   "cell_type": "code",
   "execution_count": 3,
   "metadata": {},
   "outputs": [],
   "source": [
    "from pybacktestchain_ss.data_module import FirstTwoMoments\n",
    "from pybacktestchain_ss.broker import Backtest, StopLoss, ProfitTaking\n",
    "from pybacktestchain_ss.portfolio_strategies import RiskAverseStrategy, MaximumReturnStrategy\n",
    "from datetime import datetime\n",
    "\n",
    "# Set verbosity for logging\n",
    "verbose = False  # Set to True to enable logging, or False to suppress it"
   ]
  },
  {
   "cell_type": "code",
   "execution_count": 4,
   "metadata": {},
   "outputs": [
    {
     "name": "stderr",
     "output_type": "stream",
     "text": [
      "INFO:root:Running backtest from 2019-01-01 00:00:00 to 2020-01-01 00:00:00.\n",
      "INFO:root:Retrieving price data for universe\n"
     ]
    },
    {
     "name": "stderr",
     "output_type": "stream",
     "text": [
      "WARNING:root:Error computing Maximum Return Portfolio, returning equal weight portfolio\n",
      "WARNING:root:attempt to get argmax of an empty sequence\n",
      "WARNING:root:Error computing Maximum Return Portfolio, returning equal weight portfolio\n",
      "WARNING:root:attempt to get argmax of an empty sequence\n",
      "c:\\Users\\samul\\anaconda3\\envs\\projectenv\\Lib\\site-packages\\pandas\\core\\frame.py:11211: RuntimeWarning: Degrees of freedom <= 0 for slice\n",
      "  base_cov = np.cov(mat.T, ddof=ddof)\n",
      "c:\\Users\\samul\\anaconda3\\envs\\projectenv\\Lib\\site-packages\\numpy\\lib\\function_base.py:2748: RuntimeWarning: divide by zero encountered in divide\n",
      "  c *= np.true_divide(1, fact)\n",
      "c:\\Users\\samul\\anaconda3\\envs\\projectenv\\Lib\\site-packages\\numpy\\lib\\function_base.py:2748: RuntimeWarning: invalid value encountered in multiply\n",
      "  c *= np.true_divide(1, fact)\n",
      "INFO:root:-----------------------------------\n",
      "INFO:root:Rebalancing portfolio at 2019-01-31 00:00:00\n",
      "C:\\Users\\samul\\pybacktestchain_ss\\src\\pybacktestchain_ss\\broker.py:118: FutureWarning: The behavior of DataFrame concatenation with empty or all-NA entries is deprecated. In a future version, this will no longer exclude empty or all-NA columns when determining the result dtypes. To retain the old behavior, exclude the relevant entries before the concat operation.\n",
      "  self.transaction_log = pd.concat([self.transaction_log, transaction], ignore_index=True)\n",
      "INFO:root:-----------------------------------\n",
      "INFO:root:Rebalancing portfolio at 2019-02-28 00:00:00\n",
      "INFO:root:-----------------------------------\n",
      "INFO:root:Rebalancing portfolio at 2019-03-29 00:00:00\n",
      "INFO:root:-----------------------------------\n",
      "INFO:root:Rebalancing portfolio at 2019-04-30 00:00:00\n",
      "INFO:root:-----------------------------------\n",
      "INFO:root:Rebalancing portfolio at 2019-05-31 00:00:00\n",
      "INFO:root:Stop loss triggered for META at 2019-06-04 00:00:00. Selling all shares.\n",
      "INFO:root:-----------------------------------\n",
      "INFO:root:Rebalancing portfolio at 2019-06-28 00:00:00\n",
      "INFO:root:-----------------------------------\n",
      "INFO:root:Rebalancing portfolio at 2019-07-31 00:00:00\n",
      "INFO:root:-----------------------------------\n",
      "INFO:root:Rebalancing portfolio at 2019-08-30 00:00:00\n",
      "INFO:root:-----------------------------------\n",
      "INFO:root:Rebalancing portfolio at 2019-09-30 00:00:00\n",
      "INFO:root:-----------------------------------\n",
      "INFO:root:Rebalancing portfolio at 2019-10-31 00:00:00\n",
      "INFO:root:-----------------------------------\n",
      "INFO:root:Rebalancing portfolio at 2019-11-29 00:00:00\n",
      "INFO:root:-----------------------------------\n",
      "INFO:root:Rebalancing portfolio at 2019-12-31 00:00:00\n",
      "INFO:root:Backtest completed. Final portfolio value: 1127253.5826382637\n"
     ]
    }
   ],
   "source": [
    "backtest = Backtest(\n",
    "    initial_date=datetime(2019, 1, 1),\n",
    "    final_date=datetime(2020, 1, 1),\n",
    "    universe = ['AAPL', 'MSFT', 'GOOGL', 'AMZN', 'META', 'TSLA', 'NVDA', 'INTC', 'CSCO', 'NFLX'],\n",
    "    initial_cash = 1000000,\n",
    "    information_class=FirstTwoMoments,\n",
    "    risk_model=StopLoss,\n",
    "    risk_threshold=0.1,\n",
    "    name_blockchain=\"backtest\",\n",
    "    portfolio_strategy=MaximumReturnStrategy,\n",
    "    verbose=verbose\n",
    ")\n",
    "\n",
    "backtest.run_backtest()"
   ]
  },
  {
   "cell_type": "code",
   "execution_count": null,
   "metadata": {},
   "outputs": [],
   "source": []
  }
 ],
 "metadata": {
  "kernelspec": {
   "display_name": "projectenv",
   "language": "python",
   "name": "python3"
  },
  "language_info": {
   "codemirror_mode": {
    "name": "ipython",
    "version": 3
   },
   "file_extension": ".py",
   "mimetype": "text/x-python",
   "name": "python",
   "nbconvert_exporter": "python",
   "pygments_lexer": "ipython3",
   "version": "3.12.8"
  }
 },
 "nbformat": 4,
 "nbformat_minor": 2
}
